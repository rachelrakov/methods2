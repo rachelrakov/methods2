{
 "cells": [
  {
   "cell_type": "markdown",
   "metadata": {},
   "source": [
    "# NLTK: Some basics"
   ]
  },
  {
   "cell_type": "code",
   "execution_count": null,
   "metadata": {
    "collapsed": false
   },
   "outputs": [],
   "source": [
    "from nltk.book import *\n"
   ]
  },
  {
   "cell_type": "code",
   "execution_count": null,
   "metadata": {
    "collapsed": false
   },
   "outputs": [],
   "source": [
    "text1.concordance(\"impressive\")\n",
    "text4.concordance(\"impressive\")\n",
    "text6.concordance(\"impressive\")"
   ]
  },
  {
   "cell_type": "code",
   "execution_count": null,
   "metadata": {
    "collapsed": false
   },
   "outputs": [],
   "source": [
    "text1.similar(\"impressive\")\n",
    "## returns words that appear in a \"similar\" context"
   ]
  },
  {
   "cell_type": "code",
   "execution_count": null,
   "metadata": {
    "collapsed": false
   },
   "outputs": [],
   "source": [
    "text1.common_contexts([\"pretty\", \"very\"])"
   ]
  },
  {
   "cell_type": "code",
   "execution_count": null,
   "metadata": {
    "collapsed": false
   },
   "outputs": [],
   "source": [
    "%matplotlib notebook\n",
    "text6.dispersion_plot([\"knights\", 'Arthur', 'grail', 'lady',\"ni\"])\n",
    "##Shows location of word in a text"
   ]
  },
  {
   "cell_type": "code",
   "execution_count": null,
   "metadata": {
    "collapsed": false
   },
   "outputs": [],
   "source": [
    "print len(text1)\n",
    "print len(text6)\n",
    "print \"\\n\"\n",
    "print text1.count(\"Ahab\")\n",
    "print text6.count(\"Arthur\")"
   ]
  },
  {
   "cell_type": "code",
   "execution_count": null,
   "metadata": {
    "collapsed": false
   },
   "outputs": [],
   "source": [
    "100* text1.count(\"Ahab\")/float(len(text1))\n"
   ]
  },
  {
   "cell_type": "code",
   "execution_count": null,
   "metadata": {
    "collapsed": false
   },
   "outputs": [],
   "source": [
    "sort = sorted(set(text1))\n",
    "#print len(sort)"
   ]
  },
  {
   "cell_type": "markdown",
   "metadata": {},
   "source": [
    "# Frequency Distributions"
   ]
  },
  {
   "cell_type": "code",
   "execution_count": null,
   "metadata": {
    "collapsed": false
   },
   "outputs": [],
   "source": [
    "fdist = FreqDist(text1)\n",
    "print fdist\n",
    "\n",
    "fdist.most_common(50)\n",
    "\n",
    "#fdist[\"whale\"]"
   ]
  },
  {
   "cell_type": "markdown",
   "metadata": {},
   "source": [
    "### A happy chart from your NLTK book\n",
    "       # Example                                        #Description\n",
    "      \n",
    "    fdist = FreqDist(samples) \t    create a frequency distribution containing the given samples\n",
    "    fdist[sample] += 1 \t            increment the count for this sample\n",
    "    fdist['monstrous'] \t            count of the number of times a given sample occurred\n",
    "    fdist.freq('monstrous') \t    frequency of a given sample\n",
    "    fdist.N() \t                    total number of samples\n",
    "    fdist.most_common(n) \t        the n most common samples and their frequencies\n",
    "    for sample in fdist:            iterate over the samples\n",
    "    fdist.max() \t                sample with the greatest count\n",
    "    fdist.tabulate() \t            tabulate the frequency distribution\n",
    "    fdist.plot() \t                graphical plot of the frequency distribution\n",
    "    fdist.plot(cumulative=True) \tcumulative plot of the frequency distribution\n",
    "    fdist1 |= fdist2 \t            update fdist1 with counts from fdist2\n",
    "    fdist1 < fdist2 \t test if samples in fdist1 occur less frequently than in fdist2"
   ]
  },
  {
   "cell_type": "markdown",
   "metadata": {},
   "source": [
    "# List Comprehensions"
   ]
  },
  {
   "cell_type": "code",
   "execution_count": null,
   "metadata": {
    "collapsed": false
   },
   "outputs": [],
   "source": [
    "import nltk\n",
    "sent = \"That isn't a problem, Bob.\"\n",
    "a= sent.split()\n",
    "b = nltk.word_tokenize(sent)\n",
    "\n",
    "print a\n",
    "print b"
   ]
  },
  {
   "cell_type": "markdown",
   "metadata": {},
   "source": [
    "    [x for x in array]\n",
    "Is the same as \n",
    "\n",
    "    `dest = []`\n",
    "    `for x in array:`\n",
    "       `dest.append(x)`"
   ]
  },
  {
   "cell_type": "code",
   "execution_count": null,
   "metadata": {
    "collapsed": false
   },
   "outputs": [],
   "source": [
    "array = b\n",
    "[len(x) for x in array]"
   ]
  },
  {
   "cell_type": "code",
   "execution_count": null,
   "metadata": {
    "collapsed": false
   },
   "outputs": [],
   "source": [
    "##You can put conditionals in them too\n",
    "[x for x in array if len(x) == 3]"
   ]
  },
  {
   "cell_type": "code",
   "execution_count": null,
   "metadata": {
    "collapsed": false
   },
   "outputs": [],
   "source": [
    "## Look at how complicated these can get!\n",
    "[x.upper() for x in array if len(x) > 3 and x.startswith('T')]"
   ]
  },
  {
   "cell_type": "code",
   "execution_count": null,
   "metadata": {
    "collapsed": false
   },
   "outputs": [],
   "source": [
    "sent2 = \"This isn't a fish, Mary.\"\n",
    "array2 =nltk.word_tokenize(sent2)\n",
    "\n",
    "[x+y for x in array for y in array2]\n"
   ]
  },
  {
   "cell_type": "markdown",
   "metadata": {},
   "source": [
    "## Practice!\n",
    "\n",
    "-- Make a list of the first ten multiples of ten (10, 20, 30... 90, 100) using a list comprehension. \n",
    "\n",
    "-- Make a list of the first ten cubes (1, 8, 27... 1000) using a list comprehension.\n",
    "\n",
    "-- Store five names in a list. Make a second list that adds the phrase \"is awesome!\" to each name, using a list comprehension. \n",
    "\n",
    "-- Write out the following code without using a list comprehension:\n",
    "\n",
    "    plus_thirteen = [number + 13 for number in range(1,11)]\n"
   ]
  },
  {
   "cell_type": "code",
   "execution_count": null,
   "metadata": {
    "collapsed": false
   },
   "outputs": [],
   "source": [
    "ten_tens = [x*10 for x in range(1, 11)]\n",
    "print ten_tens"
   ]
  },
  {
   "cell_type": "code",
   "execution_count": null,
   "metadata": {
    "collapsed": false
   },
   "outputs": [],
   "source": [
    "ten_cubes = [y**3 for y in range(1, 11)]\n",
    "print ten_cubes"
   ]
  },
  {
   "cell_type": "code",
   "execution_count": null,
   "metadata": {
    "collapsed": false
   },
   "outputs": [],
   "source": [
    "names = ['Tyler', 'Daniel', 'Ines', 'JiYoung', 'Ellyn', 'Katherine', 'Scott' ]\n",
    "aw_names = [name + ' is awesome!' for name in names]\n",
    "print aw_names"
   ]
  },
  {
   "cell_type": "code",
   "execution_count": null,
   "metadata": {
    "collapsed": false
   },
   "outputs": [],
   "source": [
    "plus_thirteen = []\n",
    "for i in range(1, 11):\n",
    "    plus_thirteen.append(i + 13)\n",
    "print plus_thirteen"
   ]
  },
  {
   "cell_type": "markdown",
   "metadata": {},
   "source": [
    "# Conditional Frequency Distributions"
   ]
  },
  {
   "cell_type": "code",
   "execution_count": null,
   "metadata": {
    "collapsed": false
   },
   "outputs": [],
   "source": [
    "import nltk\n",
    "from nltk.corpus import brown\n",
    "cfd = nltk.ConditionalFreqDist((genre,word)for genre in brown.categories() for word in brown.words(categories=genre))"
   ]
  },
  {
   "cell_type": "code",
   "execution_count": null,
   "metadata": {
    "collapsed": false
   },
   "outputs": [],
   "source": [
    "print cfd[\"romance\"].most_common(50)\n",
    "print cfd[\"news\"].most_common(50)\n"
   ]
  },
  {
   "cell_type": "code",
   "execution_count": null,
   "metadata": {
    "collapsed": false
   },
   "outputs": [],
   "source": [
    "%matplotlib notebook\n",
    "cfd2 = nltk.ConditionalFreqDist((genre,word)for genre in [\"romance\"] for word in brown.words(categories=genre))\n",
    "cfd2.plot()"
   ]
  },
  {
   "cell_type": "code",
   "execution_count": null,
   "metadata": {
    "collapsed": false
   },
   "outputs": [],
   "source": [
    "%matplotlib notebook\n",
    "from nltk.corpus import udhr\n",
    "languages = ['Chickasaw', 'English', 'German_Deutsch','Greenlandic_Inuktikut', 'Hungarian_Magyar', 'Ibibio_Efik']\n",
    "cfd = nltk.ConditionalFreqDist((lang, len(word)) for lang in languages for word in udhr.words(lang + '-Latin1'))\n",
    "cfd.tabulate(conditions=['English', 'German_Deutsch'],samples=range(10), cumulative=True)\n",
    "cfd.plot()"
   ]
  },
  {
   "cell_type": "markdown",
   "metadata": {},
   "source": [
    "### More happy charts from your book!"
   ]
  },
  {
   "cell_type": "markdown",
   "metadata": {},
   "source": [
    "    Example \t                                      Description\n",
    "    cfdist = ConditionalFreqDist(pairs) \t          create a conditional frequency distribution from a list of pairs\n",
    "    cfdist.conditions() \t                          the conditions\n",
    "    cfdist[condition] \t                              the frequency distribution for this condition\n",
    "    cfdist[condition][sample] \t                      frequency for the given sample for this condition\n",
    "    cfdist.tabulate() \t                              tabulate the conditional frequency distribution\n",
    "    cfdist.tabulate(samples, conditions)              tabulation limited to the specified samples and conditions\n",
    "    cfdist.plot() \t                                  graphical plot of the conditional frequency distribution\n",
    "    cfdist.plot(samples, conditions) \t              graphical plot limited to the specified samples and conditions\n",
    "    cfdist1 < cfdist2 \t                              test if samples in cfdist1 occur less frequently than in cfdist2"
   ]
  }
 ],
 "metadata": {
  "kernelspec": {
   "display_name": "Python 2",
   "language": "python",
   "name": "python2"
  },
  "language_info": {
   "codemirror_mode": {
    "name": "ipython",
    "version": 2
   },
   "file_extension": ".py",
   "mimetype": "text/x-python",
   "name": "python",
   "nbconvert_exporter": "python",
   "pygments_lexer": "ipython2",
   "version": "2.7.7"
  }
 },
 "nbformat": 4,
 "nbformat_minor": 0
}
